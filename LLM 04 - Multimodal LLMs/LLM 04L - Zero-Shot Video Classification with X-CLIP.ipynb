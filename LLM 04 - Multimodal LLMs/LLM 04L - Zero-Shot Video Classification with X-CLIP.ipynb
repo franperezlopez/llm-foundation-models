{
 "cells": [
  {
   "cell_type": "markdown",
   "metadata": {
    "application/vnd.databricks.v1+cell": {
     "cellMetadata": {},
     "inputWidgets": {},
     "nuid": "3bf48cce-e772-4f26-b882-67bcb141929f",
     "showTitle": false,
     "title": ""
    }
   },
   "source": [
    "-sandbox\n",
    "\n",
    "<div style=\"text-align: center; line-height: 0; padding-top: 9px;\">\n",
    "  <img src=\"https://databricks.com/wp-content/uploads/2018/03/db-academy-rgb-1200px.png\" alt=\"Databricks Learning\" style=\"width: 600px\">\n",
    "</div>"
   ]
  },
  {
   "cell_type": "markdown",
   "metadata": {
    "application/vnd.databricks.v1+cell": {
     "cellMetadata": {},
     "inputWidgets": {},
     "nuid": "a128e70c-e4f5-4ebd-9621-c17d588f04af",
     "showTitle": false,
     "title": ""
    }
   },
   "source": [
    "# Zero-Shot Video Classification\n",
    "In this lab, we are going to pass a video of choice to [X-CLIP](https://huggingface.co/docs/transformers/model_doc/xclip) and ask X-CLIP to assign probabilities to the provided text description. This model developed by [Ni et al 2022](https://arxiv.org/abs/2208.02816) aims to extend OpenAI's CLIP model that's focused on image-related tasks. From Hugging Face's documentation:\n",
    "\n",
    ">The model consists of a text encoder, a cross-frame vision encoder, a multi-frame integration Transformer, and a video-specific prompt generator. \n",
    "\n",
    "### ![Dolly](https://files.training.databricks.com/images/llm/dolly_small.png) Learning Objectives\n",
    "1. You will learn how to load a video from YouTube and do minor processing on the video for X-CLIP \n",
    "1. Use X-CLIP to assign probabilities to text descriptions\n",
    "\n",
    "DISCLAIMER: The majority of this notebook's code is borrowed from Hugging Face's Tutorial GitHub Repo, specifically the[\"Transformers-Tutorials/X-CLIP\"](https://github.com/NielsRogge/Transformers-Tutorials/blob/master/X-CLIP/Zero_shot_classify_a_YouTube_video_with_X_CLIP.ipynb) notebook."
   ]
  },
  {
   "cell_type": "markdown",
   "metadata": {
    "application/vnd.databricks.v1+cell": {
     "cellMetadata": {},
     "inputWidgets": {},
     "nuid": "3566718f-c2b8-45bc-8eca-0f7b74f8b6e6",
     "showTitle": false,
     "title": ""
    }
   },
   "source": [
    "We will use [pytube](https://pytube.io/en/latest/index.html) to get videos from YouTube and load videos using [decord](https://github.com/dmlc/decord)."
   ]
  },
  {
   "cell_type": "code",
   "execution_count": null,
   "metadata": {
    "application/vnd.databricks.v1+cell": {
     "cellMetadata": {},
     "inputWidgets": {},
     "nuid": "a16b38ff-bfbc-4447-976e-b81356e67233",
     "showTitle": false,
     "title": ""
    }
   },
   "outputs": [],
   "source": [
    "%pip install decord==0.6.0 openai==0.27.8 pytube==15.0.0"
   ]
  },
  {
   "cell_type": "code",
   "execution_count": null,
   "metadata": {
    "application/vnd.databricks.v1+cell": {
     "cellMetadata": {},
     "inputWidgets": {},
     "nuid": "c6104a7e-98f3-4037-90af-3ea5b28d20f6",
     "showTitle": false,
     "title": ""
    }
   },
   "outputs": [],
   "source": [
    "%run ../Includes/pytube_patch"
   ]
  },
  {
   "cell_type": "code",
   "execution_count": null,
   "metadata": {},
   "outputs": [],
   "source": [
    "def getUsernameFromEnv(lesson):\n",
    "  '''\n",
    "  Exception handling for when the working directory is not in the scope\n",
    "  (i.e. the Classroom-Setup was not run)\n",
    "  '''\n",
    "  try:\n",
    "    return f\"../data/testing-files/{lesson}\"\n",
    "  except NameError:\n",
    "    raise NameError(\"Working directory not found. Please re-run the Classroom-Setup at the beginning of the notebook.\")\n",
    "\n",
    "def questionPassed(userhome_for_testing, lesson, question):\n",
    "  '''\n",
    "  Helper function that writes an empty file named `PASSED` to the designated path\n",
    "  '''\n",
    "  from pathlib import Path\n",
    "\n",
    "  print(f\"\\u001b[32mPASSED\\x1b[0m: All tests passed for {lesson}, {question}\")\n",
    "\n",
    "  path = f\"{userhome_for_testing}/{question}\"\n",
    "  Path(path).mkdir(parents=True, exist_ok=True)\n",
    "  with open(f\"{path}/PASSED\", \"wb\") as handle:\n",
    "      pass # just write an empty file\n",
    "  \n",
    "  print (\"\\u001b[32mRESULTS RECORDED\\x1b[0m: Click `Submit` when all questions are completed to log the results.\")\n",
    "\n",
    "\n",
    "def dbTestQuestion4_1(indices):\n",
    "  lesson, question = \"lesson4\", \"question1\"\n",
    "  userhome_for_testing = getUsernameFromEnv(lesson)\n",
    "\n",
    "  assert len(indices) == 32, \"Test NOT passsed: `indices` length should be equal to 32.\"\n",
    "\n",
    "  questionPassed(userhome_for_testing, lesson, question)\n",
    "\n",
    "def dbTestQuestion4_2(model_name):\n",
    "  lesson, question = \"lesson4\", \"question2\"\n",
    "  userhome_for_testing = getUsernameFromEnv(lesson)\n",
    "\n",
    "  assert model_name == \"microsoft/xclip-base-patch16-zero-shot\", \"Test NOT passsed: `model_name` should equal 'microsoft/xclip-base-patch16-zero-shot'.\"\n",
    "\n",
    "  questionPassed(userhome_for_testing, lesson, question)\n",
    "\n",
    "def dbTestQuestion4_3(model_name, video_probs):\n",
    "  lesson, question = \"lesson4\", \"question3\"\n",
    "  userhome_for_testing = getUsernameFromEnv(lesson)\n",
    "\n",
    "  assert text_description_list == [\"play piano\", \"eat sandwich\", \"play football\"], \"Test NOT passsed: `text_description_list` should be `[\\\"play piano\\\", \\\"eat sandwich\\\", \\\"play football\\\"]`.\"\n",
    "\n",
    "  assert str(type(video_probs)) == \"<class 'torch.Tensor'>\", \"Test NOT passsed: `video_probs` should be of type `torch.Tensor`.\"\n",
    "  \n",
    "  questionPassed(userhome_for_testing, lesson, question)"
   ]
  },
  {
   "cell_type": "markdown",
   "metadata": {
    "application/vnd.databricks.v1+cell": {
     "cellMetadata": {},
     "inputWidgets": {},
     "nuid": "93e80097-2a66-460b-a4a4-fd1a656204f3",
     "showTitle": false,
     "title": ""
    }
   },
   "source": [
    "## Classroom Setup"
   ]
  },
  {
   "cell_type": "code",
   "execution_count": null,
   "metadata": {
    "application/vnd.databricks.v1+cell": {
     "cellMetadata": {},
     "inputWidgets": {},
     "nuid": "82864e1a-48d9-4ce4-a732-2b5bdc99ab02",
     "showTitle": false,
     "title": ""
    }
   },
   "outputs": [],
   "source": [
    "%run ../Includes/Classroom-Setup"
   ]
  },
  {
   "cell_type": "markdown",
   "metadata": {
    "application/vnd.databricks.v1+cell": {
     "cellMetadata": {},
     "inputWidgets": {},
     "nuid": "83f65c30-5302-4821-a50d-dc42c953c288",
     "showTitle": false,
     "title": ""
    }
   },
   "source": [
    "Below, we will load a YouTube video of a piano performance.\n",
    "\n",
    "`streams.filter` method provides flexible ways for us to filter based on the type of stream that we're interested in. Refer to [documentation here](https://pytube.io/en/latest/user/streams.html#filtering-by-streaming-method)."
   ]
  },
  {
   "cell_type": "code",
   "execution_count": null,
   "metadata": {
    "application/vnd.databricks.v1+cell": {
     "cellMetadata": {},
     "inputWidgets": {},
     "nuid": "94a74e77-55a2-4745-ae56-01ed70d363ca",
     "showTitle": false,
     "title": ""
    }
   },
   "outputs": [],
   "source": [
    "from pytube import YouTube\n",
    "\n",
    "# a video of piano performance \n",
    "youtube_url = \"https://www.youtube.com/watch?v=-xKM3mGt2pE\"\n",
    "yt = YouTube(youtube_url)\n",
    "\n",
    "streams = yt.streams.filter(file_extension=\"mp4\")\n",
    "print(streams)"
   ]
  },
  {
   "cell_type": "markdown",
   "metadata": {
    "application/vnd.databricks.v1+cell": {
     "cellMetadata": {},
     "inputWidgets": {},
     "nuid": "f8c0407d-2fc8-4b03-ac37-566357524f9a",
     "showTitle": false,
     "title": ""
    }
   },
   "source": [
    "Let's say that we only are interested in the first part of the video stream. We will download only the third portion and save it to our directory."
   ]
  },
  {
   "cell_type": "code",
   "execution_count": null,
   "metadata": {
    "application/vnd.databricks.v1+cell": {
     "cellMetadata": {},
     "inputWidgets": {},
     "nuid": "bba651d3-e57c-405b-884a-3b2eaf3271c4",
     "showTitle": false,
     "title": ""
    }
   },
   "outputs": [],
   "source": [
    "import os\n",
    "\n",
    "output_dir = os.path.join(\"../data/\", \"video\")\n",
    "file_path = streams[0].download(output_path=output_dir)\n",
    "file_path"
   ]
  },
  {
   "cell_type": "markdown",
   "metadata": {
    "application/vnd.databricks.v1+cell": {
     "cellMetadata": {},
     "inputWidgets": {},
     "nuid": "5ed08cb4-4805-4ca7-9f42-ce0f23ebb698",
     "showTitle": false,
     "title": ""
    }
   },
   "source": [
    "Recall from the presentation that audio data is often split into chunks. The same applies to videos as well. Below we will split the video into different frames. \n",
    "\n",
    "`frame_rate` is a common term in video processing to refer to # of pictures taken per second. For audio-only data, it's called `sampling_rate`.\n",
    "\n",
    "`VideoReader` helps us to access frames directly from the video files. Refer to [documentation here](https://github.com/dmlc/decord#videoreader)."
   ]
  },
  {
   "cell_type": "code",
   "execution_count": null,
   "metadata": {
    "application/vnd.databricks.v1+cell": {
     "cellMetadata": {},
     "inputWidgets": {},
     "nuid": "03f0f66b-3d55-4733-9745-903e74ea06ec",
     "showTitle": false,
     "title": ""
    }
   },
   "outputs": [],
   "source": [
    "from decord import VideoReader, cpu\n",
    "import torch\n",
    "import numpy as np\n",
    "from huggingface_hub import hf_hub_download\n",
    "\n",
    "np.random.seed(42)\n",
    "\n",
    "# this does in-memory decoding of the video \n",
    "videoreader = VideoReader(file_path, num_threads=1, ctx=cpu(0))\n",
    "print(\"Length of video frames: \", len(videoreader))\n",
    "\n",
    "def sample_frame_indices(clip_len, frame_sample_rate, seg_len):\n",
    "    \n",
    "    # Since each frame length is 4 seconds, we need to find the total frame length if we want `clip_len` frames \n",
    "    converted_len = int(clip_len * frame_sample_rate)\n",
    "\n",
    "    # Get a random frame to end on \n",
    "    end_idx = np.random.randint(converted_len, seg_len)\n",
    "    # Find the starting frame, if the frame has length of clip_len\n",
    "    start_idx = end_idx - converted_len\n",
    "\n",
    "    # np.linspace returns evenly spaced numbers over a specified interval \n",
    "    indices = np.linspace(start_idx, end_idx, num=clip_len)\n",
    "    indices = np.clip(indices, start_idx, end_idx - 1).astype(np.int64)\n",
    "    return indices"
   ]
  },
  {
   "cell_type": "code",
   "execution_count": null,
   "metadata": {},
   "outputs": [],
   "source": [
    "1"
   ]
  },
  {
   "cell_type": "markdown",
   "metadata": {
    "application/vnd.databricks.v1+cell": {
     "cellMetadata": {},
     "inputWidgets": {},
     "nuid": "86d7a888-875c-4b6a-8ce1-ed49d95464d0",
     "showTitle": false,
     "title": ""
    }
   },
   "source": [
    "## Question 1\n",
    "\n",
    "We want to retrieve 32 frames in total, with 4 seconds each."
   ]
  },
  {
   "cell_type": "code",
   "execution_count": null,
   "metadata": {
    "application/vnd.databricks.v1+cell": {
     "cellMetadata": {},
     "inputWidgets": {},
     "nuid": "0cca2c9e-f42f-4051-bd91-9b655731c1ec",
     "showTitle": false,
     "title": ""
    }
   },
   "outputs": [],
   "source": [
    "# TODO \n",
    "indices = sample_frame_indices(clip_len= <FILL_IN>, \n",
    "                               frame_sample_rate=<FILL_IN>, \n",
    "                               seg_len=len(videoreader))\n",
    "print(\"Number of frames we will retrieve: \", len(indices))\n",
    "\n",
    "# `get_batch` allows us to get multiple frames at once \n",
    "video = videoreader.get_batch(indices).asnumpy()"
   ]
  },
  {
   "cell_type": "code",
   "execution_count": null,
   "metadata": {
    "application/vnd.databricks.v1+cell": {
     "cellMetadata": {},
     "inputWidgets": {},
     "nuid": "df3d1af7-3782-4a59-9cbe-afb297841997",
     "showTitle": false,
     "title": ""
    }
   },
   "outputs": [],
   "source": [
    "# Test your answer. DO NOT MODIFY THIS CELL.\n",
    "\n",
    "dbTestQuestion4_1(indices)"
   ]
  },
  {
   "cell_type": "markdown",
   "metadata": {
    "application/vnd.databricks.v1+cell": {
     "cellMetadata": {},
     "inputWidgets": {},
     "nuid": "f7d152b4-5072-4dce-8409-ec997c0eb5e8",
     "showTitle": false,
     "title": ""
    }
   },
   "source": [
    "We will now randomly pick a video frame to inspect."
   ]
  },
  {
   "cell_type": "code",
   "execution_count": null,
   "metadata": {
    "application/vnd.databricks.v1+cell": {
     "cellMetadata": {},
     "inputWidgets": {},
     "nuid": "5fd98f39-7cb4-4813-afc4-5c930f6f2419",
     "showTitle": false,
     "title": ""
    }
   },
   "outputs": [],
   "source": [
    "from PIL import Image\n",
    "\n",
    "Image.fromarray(video[8])"
   ]
  },
  {
   "cell_type": "markdown",
   "metadata": {
    "application/vnd.databricks.v1+cell": {
     "cellMetadata": {},
     "inputWidgets": {},
     "nuid": "0a7c6e58-71f9-45d2-bee5-133617d9800d",
     "showTitle": false,
     "title": ""
    }
   },
   "source": [
    "## Question 2\n",
    "\n",
    "We will now pass in XCLIP model to process our video frames and as our model to assign probabilities to text descriptions to the model. \n",
    "\n",
    "The model we will use is `microsoft/xclip-base-patch16-zero-shot`."
   ]
  },
  {
   "cell_type": "code",
   "execution_count": null,
   "metadata": {
    "application/vnd.databricks.v1+cell": {
     "cellMetadata": {},
     "inputWidgets": {},
     "nuid": "8842791f-be2a-48fa-9f02-0e1968e65e3f",
     "showTitle": false,
     "title": ""
    }
   },
   "outputs": [],
   "source": [
    "# TODO \n",
    "\n",
    "from transformers import XCLIPProcessor, XCLIPModel\n",
    "\n",
    "model_name = <FILL_IN>\n",
    "processor = XCLIPProcessor.from_pretrained(model_name)\n",
    "model = XCLIPModel.from_pretrained(model_name)"
   ]
  },
  {
   "cell_type": "code",
   "execution_count": null,
   "metadata": {
    "application/vnd.databricks.v1+cell": {
     "cellMetadata": {},
     "inputWidgets": {},
     "nuid": "3e2217de-2239-4e86-b301-69272f12dd91",
     "showTitle": false,
     "title": ""
    }
   },
   "outputs": [],
   "source": [
    "# Test your answer. DO NOT MODIFY THIS CELL.\n",
    "\n",
    "dbTestQuestion4_2(model_name)"
   ]
  },
  {
   "cell_type": "markdown",
   "metadata": {
    "application/vnd.databricks.v1+cell": {
     "cellMetadata": {},
     "inputWidgets": {},
     "nuid": "68649e8c-4e3d-4ea1-a7ac-bf89c8beb287",
     "showTitle": false,
     "title": ""
    }
   },
   "source": [
    "## Question 3 \n",
    "\n",
    "We will provide a list of three text descriptions and ask the model to assign probabitilies to each of them. \n",
    "\n",
    "Let's use `text_description_list = [\"play piano\", \"eat sandwich\", \"play football\"]` \n",
    "\n",
    "Hint:  for the `videos` argument: recall that we have a list of video frames we have processed in the cells above."
   ]
  },
  {
   "cell_type": "code",
   "execution_count": null,
   "metadata": {
    "application/vnd.databricks.v1+cell": {
     "cellMetadata": {},
     "inputWidgets": {},
     "nuid": "50ad8cf6-65ea-41cd-b478-09b8305e227c",
     "showTitle": false,
     "title": ""
    }
   },
   "outputs": [],
   "source": [
    "# TODO \n",
    "import torch\n",
    "\n",
    "text_description_list = <FILL_IN>\n",
    "\n",
    "inputs = processor(text=<FILL_IN>, \n",
    "                   videos=<FILL_IN>, \n",
    "                   return_tensors=\"pt\", \n",
    "                   padding=True)\n",
    "\n",
    "# forward pass\n",
    "# we are not going to train the model, hence we specify .no_grad()\n",
    "with torch.no_grad():\n",
    "    outputs = model(**inputs)\n",
    "\n",
    "# we will get probabilities per video frame and calculate the softmax \n",
    "video_probs = outputs.logits_per_video.softmax(dim=1)\n",
    "print(dict(zip(text_description_list, video_probs[0])))"
   ]
  },
  {
   "cell_type": "code",
   "execution_count": null,
   "metadata": {
    "application/vnd.databricks.v1+cell": {
     "cellMetadata": {},
     "inputWidgets": {},
     "nuid": "c047ce93-24d3-442a-9a1a-3aa821db61ea",
     "showTitle": false,
     "title": ""
    }
   },
   "outputs": [],
   "source": [
    "# Test your answer. DO NOT MODIFY THIS CELL.\n",
    "\n",
    "dbTestQuestion4_3(text_description_list, video_probs)"
   ]
  },
  {
   "cell_type": "markdown",
   "metadata": {
    "application/vnd.databricks.v1+cell": {
     "cellMetadata": {},
     "inputWidgets": {},
     "nuid": "e8373c70-bd65-47c7-8e34-389f90848966",
     "showTitle": false,
     "title": ""
    }
   },
   "source": [
    "Which text description has the highest probability? In the following optional section, you can play around with OpenAI's CLIP and Whisper API to generate image from text and get audio transcription."
   ]
  },
  {
   "cell_type": "markdown",
   "metadata": {
    "application/vnd.databricks.v1+cell": {
     "cellMetadata": {},
     "inputWidgets": {},
     "nuid": "7f0742b1-366f-4da2-b761-ac68451f2c90",
     "showTitle": false,
     "title": ""
    }
   },
   "source": [
    "## OPTIONAL (Non-graded): Using OpenAI's CLIP and Whisper\n",
    "\n",
    "\n",
    "For this section to work, you need to generate an Open AI key. \n",
    "\n",
    "Steps:\n",
    "1. You need to [create an account](https://platform.openai.com/signup) on OpenAI. \n",
    "2. Generate an OpenAI [API key here](https://platform.openai.com/account/api-keys). \n",
    "\n",
    "Note: OpenAI does not have a free option, but it gives you $5 as credit. Once you have exhausted your $5 credit, you will need to add your payment method. You will be [charged per token usage](https://openai.com/pricing). **IMPORTANT**: It's crucial that you keep your OpenAI API key to yourself. If others have access to your OpenAI key, they will be able to charge their usage to your account!"
   ]
  },
  {
   "cell_type": "code",
   "execution_count": null,
   "metadata": {
    "application/vnd.databricks.v1+cell": {
     "cellMetadata": {},
     "inputWidgets": {},
     "nuid": "874579bb-a807-4f50-9191-0b5b6ae425c5",
     "showTitle": false,
     "title": ""
    }
   },
   "outputs": [],
   "source": [
    "# TODO\n",
    "import os\n",
    "\n",
    "os.environ[\"OPENAI_API_KEY\"] = \"<FILL IN>\""
   ]
  },
  {
   "cell_type": "code",
   "execution_count": null,
   "metadata": {
    "application/vnd.databricks.v1+cell": {
     "cellMetadata": {},
     "inputWidgets": {},
     "nuid": "f01ea369-95c5-4c28-a0b1-2c2239dbe805",
     "showTitle": false,
     "title": ""
    }
   },
   "outputs": [],
   "source": [
    "import openai\n",
    "\n",
    "openai.api_key = os.environ[\"OPENAI_API_KEY\"]"
   ]
  },
  {
   "cell_type": "markdown",
   "metadata": {
    "application/vnd.databricks.v1+cell": {
     "cellMetadata": {},
     "inputWidgets": {},
     "nuid": "fc1eb846-c0c5-41c0-b9f6-06040d758797",
     "showTitle": false,
     "title": ""
    }
   },
   "source": [
    "###  Using CLIP \n",
    "\n",
    "OpenAI's CLIP can help you generate images from provided text."
   ]
  },
  {
   "cell_type": "code",
   "execution_count": null,
   "metadata": {
    "application/vnd.databricks.v1+cell": {
     "cellMetadata": {},
     "inputWidgets": {},
     "nuid": "c5640fdd-0ab5-4858-92e5-b2c412ebb194",
     "showTitle": false,
     "title": ""
    }
   },
   "outputs": [],
   "source": [
    "image_resp = openai.Image.create(prompt=\"robots play water balloons, modern painting\", \n",
    "                                 n=1, \n",
    "                                 size=\"512x512\")\n",
    "image_resp\n",
    "displayHTML(image_resp[\"data\"][0][\"url\"])"
   ]
  },
  {
   "cell_type": "markdown",
   "metadata": {
    "application/vnd.databricks.v1+cell": {
     "cellMetadata": {},
     "inputWidgets": {},
     "nuid": "1c3287eb-a967-43a6-b4fb-442d545d45b4",
     "showTitle": false,
     "title": ""
    }
   },
   "source": [
    "You can also use it to assign text caption probabilities based on provided image."
   ]
  },
  {
   "cell_type": "code",
   "execution_count": null,
   "metadata": {
    "application/vnd.databricks.v1+cell": {
     "cellMetadata": {},
     "inputWidgets": {},
     "nuid": "2603ec6e-cd54-4829-83af-585475ae9abe",
     "showTitle": false,
     "title": ""
    }
   },
   "outputs": [],
   "source": [
    "from PIL import Image\n",
    "import requests\n",
    "from transformers import CLIPProcessor, CLIPModel\n",
    "\n",
    "clip_model = CLIPModel.from_pretrained(\"openai/clip-vit-base-patch32\")\n",
    "clip_processor = CLIPProcessor.from_pretrained(\"openai/clip-vit-base-patch32\")\n",
    "\n",
    "url = \"http://images.cocodataset.org/val2017/000000039769.jpg\"\n",
    "cat_image = Image.open(requests.get(url, stream=True).raw)\n",
    "display(cat_image)"
   ]
  },
  {
   "cell_type": "code",
   "execution_count": null,
   "metadata": {
    "application/vnd.databricks.v1+cell": {
     "cellMetadata": {},
     "inputWidgets": {},
     "nuid": "7bef5e13-090d-4b04-a0f4-8ec293ab9140",
     "showTitle": false,
     "title": ""
    }
   },
   "outputs": [],
   "source": [
    "caption_list = [\"eating pasta\", \"cats sleeping\"]\n",
    "\n",
    "inputs = clip_processor(text=caption_list, \n",
    "                        images=cat_image, \n",
    "                        return_tensors=\"pt\", \n",
    "                        padding=True)\n",
    "\n",
    "clip_outputs = clip_model(**inputs)\n",
    "# This calculates image-text similarity score \n",
    "clip_logits_per_image = clip_outputs.logits_per_image \n",
    "\n",
    "# Use softmax to get caption probabilities \n",
    "image_probs = clip_logits_per_image.softmax(dim=1)\n",
    "print(dict(zip(caption_list, image_probs[0])))"
   ]
  },
  {
   "cell_type": "markdown",
   "metadata": {
    "application/vnd.databricks.v1+cell": {
     "cellMetadata": {},
     "inputWidgets": {},
     "nuid": "ebb7cefd-b46f-4a8a-89a6-3cf0cf84f964",
     "showTitle": false,
     "title": ""
    }
   },
   "source": [
    "You can see that the probability of the caption with \"cats\" is much higher than that of \"pasta\"."
   ]
  },
  {
   "cell_type": "markdown",
   "metadata": {
    "application/vnd.databricks.v1+cell": {
     "cellMetadata": {},
     "inputWidgets": {},
     "nuid": "abbc3f34-bee0-409a-b58a-c93dceb676e2",
     "showTitle": false,
     "title": ""
    }
   },
   "source": [
    "### Using Whisper\n",
    "\n",
    "OpenAI's Whisper Automatic Speech Recognition system is a simple and powerful tool for transcribing audio files. \n",
    "\n",
    "If you'd like to browse interesting Whisper applications that people have been exploring, visit [this link](https://github.com/openai/whisper/discussions/categories/show-and-tell), notably [this web UI application](https://huggingface.co/spaces/aadnk/whisper-webui) and [this transcription + speaker identification discussion](https://github.com/openai/whisper/discussions/264)."
   ]
  },
  {
   "cell_type": "code",
   "execution_count": null,
   "metadata": {
    "application/vnd.databricks.v1+cell": {
     "cellMetadata": {},
     "inputWidgets": {},
     "nuid": "a04c18cc-a855-4b09-bbd9-9ad18776d8c5",
     "showTitle": false,
     "title": ""
    }
   },
   "outputs": [],
   "source": [
    "import requests\n",
    "\n",
    "# URL of the sample audio file (in this case, a simple English sentence)\n",
    "audio_url = \"https://audio-samples.github.io/samples/mp3/blizzard_primed/sample-1.mp3\"\n",
    "\n",
    "# Download the audio file\n",
    "response = requests.get(audio_url)\n",
    "\n",
    "audio_directory = os.path.join(DA.paths.working_dir, \"sample_audio.mp3\")\n",
    "# Save the audio file to disk\n",
    "with open(audio_directory, \"wb\") as audio_file:\n",
    "    audio_file.write(response.content) \n",
    "\n",
    "print(\"Sample audio file 'sample_audio.wav' downloaded.\")"
   ]
  },
  {
   "cell_type": "code",
   "execution_count": null,
   "metadata": {
    "application/vnd.databricks.v1+cell": {
     "cellMetadata": {},
     "inputWidgets": {},
     "nuid": "f807b31c-2bf5-4780-9a95-8897e5e89144",
     "showTitle": false,
     "title": ""
    }
   },
   "outputs": [],
   "source": [
    "audio_file = open(audio_directory, \"rb\")\n",
    "transcript = openai.Audio.transcribe(\"whisper-1\", audio_file)\n",
    "print(transcript)"
   ]
  },
  {
   "cell_type": "markdown",
   "metadata": {
    "application/vnd.databricks.v1+cell": {
     "cellMetadata": {},
     "inputWidgets": {},
     "nuid": "714fe9e9-6f3d-426e-857f-8b50b2a4c224",
     "showTitle": false,
     "title": ""
    }
   },
   "source": [
    "-sandbox\n",
    "&copy; 2023 Databricks, Inc. All rights reserved.<br/>\n",
    "Apache, Apache Spark, Spark and the Spark logo are trademarks of the <a href=\"https://www.apache.org/\">Apache Software Foundation</a>.<br/>\n",
    "<br/>\n",
    "<a href=\"https://databricks.com/privacy-policy\">Privacy Policy</a> | <a href=\"https://databricks.com/terms-of-use\">Terms of Use</a> | <a href=\"https://help.databricks.com/\">Support</a>"
   ]
  }
 ],
 "metadata": {
  "application/vnd.databricks.v1+notebook": {
   "dashboards": [],
   "language": "python",
   "notebookMetadata": {
    "pythonIndentUnit": 4
   },
   "notebookName": "LLM 04L - Zero-Shot Video Classification with X-CLIP",
   "widgets": {}
  },
  "kernelspec": {
   "display_name": "gpt",
   "language": "python",
   "name": "gpt"
  },
  "language_info": {
   "codemirror_mode": {
    "name": "ipython",
    "version": 3
   },
   "file_extension": ".py",
   "mimetype": "text/x-python",
   "name": "python",
   "nbconvert_exporter": "python",
   "pygments_lexer": "ipython3",
   "version": "3.10.10"
  }
 },
 "nbformat": 4,
 "nbformat_minor": 0
}
